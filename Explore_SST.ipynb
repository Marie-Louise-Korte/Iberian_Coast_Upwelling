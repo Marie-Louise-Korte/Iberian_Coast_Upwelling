{
 "cells": [
  {
   "cell_type": "markdown",
   "id": "78417fb8-12ea-40b7-9400-02aecf4c1191",
   "metadata": {},
   "source": [
    "## Explore SST Trends\n",
    "\n",
    "- compare CoRTAD data (T data in UI SST dataset) with ECCO2 SST and ERA5 SST data\n",
    "- compare period 2002-2021"
   ]
  },
  {
   "cell_type": "code",
   "execution_count": null,
   "id": "6a982545-14dc-4ab8-acdb-d724a752ccf6",
   "metadata": {},
   "outputs": [],
   "source": []
  }
 ],
 "metadata": {
  "kernelspec": {
   "display_name": "IbUp Py3.9.12",
   "language": "python",
   "name": "ibuppy3.9.12"
  },
  "language_info": {
   "codemirror_mode": {
    "name": "ipython",
    "version": 3
   },
   "file_extension": ".py",
   "mimetype": "text/x-python",
   "name": "python",
   "nbconvert_exporter": "python",
   "pygments_lexer": "ipython3",
   "version": "3.9.19"
  }
 },
 "nbformat": 4,
 "nbformat_minor": 5
}
