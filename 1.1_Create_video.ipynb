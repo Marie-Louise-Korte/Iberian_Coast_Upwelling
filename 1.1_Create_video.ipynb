{
 "cells": [
  {
   "cell_type": "markdown",
   "id": "00d016cf-39ff-4de2-b20b-019c89c36647",
   "metadata": {},
   "source": [
    "## Creating a little MP4 clip"
   ]
  },
  {
   "cell_type": "code",
   "execution_count": 1,
   "id": "29834da9-72a8-4b46-958e-6f6e9468756b",
   "metadata": {},
   "outputs": [],
   "source": [
    "## load packages\n",
    "import imageio.v2 as imageio\n",
    "import moviepy.video.io.ImageSequenceClip\n",
    "import os"
   ]
  },
  {
   "cell_type": "code",
   "execution_count": 2,
   "id": "47982a7d-de63-4aab-944f-fb81ff43374d",
   "metadata": {},
   "outputs": [
    {
     "data": {
      "text/plain": [
       "'/Users/marie-louisekorte/Documents/Uni Leipzig/Lisbon/Iberian_Coast_Upwelling'"
      ]
     },
     "execution_count": 2,
     "metadata": {},
     "output_type": "execute_result"
    }
   ],
   "source": [
    "# set correct wd\n",
    "os.chdir(\"/Users/marie-louisekorte/Documents/Uni Leipzig/Lisbon/Iberian_Coast_Upwelling\")"
   ]
  },
  {
   "cell_type": "code",
   "execution_count": 3,
   "id": "c827a959-8056-4b36-ba19-46775511126c",
   "metadata": {},
   "outputs": [
    {
     "name": "stderr",
     "output_type": "stream",
     "text": [
      "IMAGEIO FFMPEG_WRITER WARNING: input image is not divisible by macro_block_size=16, resizing from (1000, 600) to (1008, 608) to ensure video compatibility with most codecs and players. To prevent resizing, make your input image divisible by the macro_block_size or set the macro_block_size to 1 (risking incompatibility).\n"
     ]
    },
    {
     "name": "stdout",
     "output_type": "stream",
     "text": [
      "Movie created successfully.\n"
     ]
    }
   ],
   "source": [
    "# method 1\n",
    "# Directory containing the .png images\n",
    "images_dir = 'Figures/ERA5_2020/'\n",
    "\n",
    "# Get the list of .png files in the directory\n",
    "png_files = [f for f in os.listdir(images_dir) if f.endswith('.png')]\n",
    "\n",
    "# Sort the files for proper ordering\n",
    "png_files.sort()\n",
    "\n",
    "# Initialize list to store image paths\n",
    "images = []\n",
    "\n",
    "# Load the .png images\n",
    "for filename in png_files:\n",
    "    file_path = os.path.join(images_dir, filename)\n",
    "    images.append(imageio.imread(file_path))\n",
    "\n",
    "# Save the loaded images as a movie (video file)\n",
    "output_file = 'Figures/ERA5_2020_1.mp4'\n",
    "imageio.mimsave(output_file, images, fps=10)  # Adjust fps as needed\n",
    "\n",
    "print('Movie created successfully.')"
   ]
  },
  {
   "cell_type": "code",
   "execution_count": 4,
   "id": "3e4beec5-b0ef-4b87-acbd-4cfb70fc2d82",
   "metadata": {},
   "outputs": [
    {
     "name": "stdout",
     "output_type": "stream",
     "text": [
      "Moviepy - Building video Figures/ERA5_2020.mp4.\n",
      "Moviepy - Writing video Figures/ERA5_2020.mp4\n",
      "\n"
     ]
    },
    {
     "name": "stderr",
     "output_type": "stream",
     "text": [
      "                                                                                \r"
     ]
    },
    {
     "name": "stdout",
     "output_type": "stream",
     "text": [
      "Moviepy - Done !\n",
      "Moviepy - video ready Figures/ERA5_2020.mp4\n"
     ]
    }
   ],
   "source": [
    "## method 2\n",
    "image_folder = 'Figures/ERA5_2020/'\n",
    "fps = 5\n",
    "\n",
    "image_files = [os.path.join(image_folder,img)\n",
    "               for img in os.listdir(image_folder)\n",
    "               if img.endswith(\".png\")]\n",
    "clip = moviepy.video.io.ImageSequenceClip.ImageSequenceClip(image_files, fps=fps)\n",
    "clip.write_videofile('Figures/ERA5_2020_2.mp4')"
   ]
  },
  {
   "cell_type": "code",
   "execution_count": null,
   "id": "091307d8-06d4-400c-a298-5148ed2f0410",
   "metadata": {},
   "outputs": [],
   "source": []
  }
 ],
 "metadata": {
  "kernelspec": {
   "display_name": "IbUp Py3.9.12",
   "language": "python",
   "name": "ibuppy3.9.12"
  },
  "language_info": {
   "codemirror_mode": {
    "name": "ipython",
    "version": 3
   },
   "file_extension": ".py",
   "mimetype": "text/x-python",
   "name": "python",
   "nbconvert_exporter": "python",
   "pygments_lexer": "ipython3",
   "version": "3.9.19"
  }
 },
 "nbformat": 4,
 "nbformat_minor": 5
}
