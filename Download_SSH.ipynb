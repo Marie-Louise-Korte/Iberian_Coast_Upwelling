{
 "cells": [
  {
   "cell_type": "markdown",
   "id": "6bb0b0e1-7703-4f51-a038-68fb6995a150",
   "metadata": {},
   "source": [
    "## Download SSH\n",
    "\n",
    "- from https://data.marine.copernicus.eu/product/IBI_MULTIYEAR_PHY_005_002/description\n",
    "- username: ise.korte@gmx.de\n",
    "- password: $**M*****$"
   ]
  },
  {
   "cell_type": "code",
   "execution_count": null,
   "id": "d9477292-7b21-4905-83b3-2c6ee95be36c",
   "metadata": {},
   "outputs": [],
   "source": [
    "# Import modules\n",
    "import copernicusmarine\n",
    "\n",
    "# Set parameters\n",
    "data_request = {\n",
    "   \"IBI_MULTIYEAR_PHY_005_002\" : \"cmems_mod_ibi_phy_my_0.083deg-3D_P1D-m\",\n",
    "   \"longitude\" : [-19, -5], \n",
    "   \"latitude\" : [35, 45],\n",
    "   \"time\" : [\"1993-01-01\", \"2021-12-28\"],\n",
    "   \"variables\" : [\"zos\", \"thetao\", \"uo\", \"vo\"]\n",
    "}\n",
    "\n",
    "# Load xarray dataset\n",
    "ds = copernicusmarine.open_dataset(\n",
    "    dataset_id = data_request[\"IBI_MULTIYEAR_PHY_005_002\"],\n",
    "    minimum_longitude = data_request[\"longitude\"][0],\n",
    "    maximum_longitude = data_request[\"longitude\"][1],\n",
    "    minimum_latitude = data_request[\"latitude\"][0],\n",
    "    maximum_latitude = data_request[\"latitude\"][1],\n",
    "    start_datetime = data_request[\"time\"][0],\n",
    "    end_datetime = data_request[\"time\"][1],\n",
    "    variables = data_request[\"variables\"]\n",
    ")\n",
    "\n",
    "# Print loaded dataset information\n",
    "ds"
   ]
  },
  {
   "cell_type": "code",
   "execution_count": null,
   "id": "c01ebaf9-bc34-4b0c-8379-83d002bcfa7d",
   "metadata": {},
   "outputs": [],
   "source": [
    "## save ds\n",
    "ds.to_netcdf(\"../Data.nosync/SSH.nc\")"
   ]
  },
  {
   "cell_type": "code",
   "execution_count": null,
   "id": "914ee8e9-c314-47b8-83b1-d15f73531154",
   "metadata": {},
   "outputs": [],
   "source": [
    "ds"
   ]
  },
  {
   "cell_type": "code",
   "execution_count": null,
   "id": "25917c41-3dfe-4c56-b438-07d73fefd9bd",
   "metadata": {},
   "outputs": [],
   "source": []
  }
 ],
 "metadata": {
  "kernelspec": {
   "display_name": "IbUp Py3.9.12",
   "language": "python",
   "name": "ibuppy3.9.12"
  },
  "language_info": {
   "codemirror_mode": {
    "name": "ipython",
    "version": 3
   },
   "file_extension": ".py",
   "mimetype": "text/x-python",
   "name": "python",
   "nbconvert_exporter": "python",
   "pygments_lexer": "ipython3",
   "version": "3.9.19"
  }
 },
 "nbformat": 4,
 "nbformat_minor": 5
}
